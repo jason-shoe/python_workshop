{
 "cells": [
  {
   "cell_type": "markdown",
   "metadata": {},
   "source": [
    "# Dormify Python Workshop\n",
    "### Introduction\n",
    "Python has been the fastest growing programming language over the past few years because of its wideranging functionality.  \n",
    "Use Cases:\n",
    "*   Building websites\n",
    "*   Creating simple games\n",
    "*   Collecting data\n",
    "*   Data Visualization\n",
    "*   Automation\n",
    "\n",
    "As a result of its popularity, many of its users have contributed to the language. What they create are <b>Open Source Projects</b>. Similar to how downloading applications to your computer is what makes it useful, open source projects are what make Python useful. They allow you to do things that would otherwise be impossible in regular python\n",
    "\n",
    "\n",
    "What Tony and I use basically everyday is an open source project called <b>Pandas</b>. I like to think of Pandas as \"fancy Excel\" since it can do everything that you can do in Excel, but much more. "
   ]
  },
  {
   "cell_type": "markdown",
   "metadata": {},
   "source": [
    "# How to Use Jupyter Notebook\n",
    "Just like how we use Microsoft Word to write text, we use Jupyter Notebook to write code. Of course, there are many other text editors that you can use, but Jupyter Notebook is our go-to since it is really helpful in visualizing tables and showing graphs.\n",
    "\n",
    "The main building block of code in Jupyter Notebook is a <b>cell</b>. Click on the cell below so that it is highlighted and click <b>Run</b> button at the top of the notebook. It looks like this\n",
    "![title](img/run.png)"
   ]
  },
  {
   "cell_type": "code",
   "execution_count": null,
   "metadata": {},
   "outputs": [],
   "source": [
    "print(\"Hello World!\")"
   ]
  },
  {
   "cell_type": "markdown",
   "metadata": {},
   "source": [
    "After we run a cell, we can also go back and change the code and run it again. For example, after running the above cell, we can change it to say \"Hello Dormify\" instead, and then run it again."
   ]
  },
  {
   "cell_type": "markdown",
   "metadata": {},
   "source": [
    "# Basic Python Concepts\n",
    "In Python, we work with thigs called <b>variables</b>. Variables can store information, can be changed, and can be used to perform additional calculations\n",
    "\n",
    "Variables can be thought of filenames on your computer. When you create a file and are about to save it, you need to create a name for that file so that you can find it later.\n",
    "\n",
    "In the example below, we have two different variables. They represent the price of the pillow and the number of pillows sold."
   ]
  },
  {
   "cell_type": "code",
   "execution_count": 6,
   "metadata": {},
   "outputs": [],
   "source": [
    "pillow_price = 10.99\n",
    "pillows_sold = 100"
   ]
  },
  {
   "cell_type": "markdown",
   "metadata": {},
   "source": [
    "In order to calculate the revenue we get from the pillow, rather than multiplying $10.99 * 100$, we can instead multiply the two variables together."
   ]
  },
  {
   "cell_type": "code",
   "execution_count": null,
   "metadata": {},
   "outputs": [],
   "source": [
    "pillow_revenue = pillow_price * pillows_sold"
   ]
  },
  {
   "cell_type": "markdown",
   "metadata": {},
   "source": [
    "If we want to see what the current value being stored in a variable is, we can just write the name of the variable in its own cell. By running it, the value will show up right below it!"
   ]
  },
  {
   "cell_type": "code",
   "execution_count": 2,
   "metadata": {},
   "outputs": [
    {
     "data": {
      "text/plain": [
       "1099.0"
      ]
     },
     "execution_count": 2,
     "metadata": {},
     "output_type": "execute_result"
    }
   ],
   "source": [
    "pillow_revenue"
   ]
  },
  {
   "cell_type": "markdown",
   "metadata": {},
   "source": [
    "Variables can change value if we want them to. For example, if we sell even more pillows, we can change the $\\verb#pillows_sold#$ variable, and then recalculate the revenue from the pillows accordingly."
   ]
  },
  {
   "cell_type": "code",
   "execution_count": 4,
   "metadata": {},
   "outputs": [],
   "source": [
    "pillows_sold = 200\n",
    "pillow_revenue = pillow_price * pillows_sold"
   ]
  },
  {
   "cell_type": "code",
   "execution_count": 5,
   "metadata": {},
   "outputs": [
    {
     "data": {
      "text/plain": [
       "2198.0"
      ]
     },
     "execution_count": 5,
     "metadata": {},
     "output_type": "execute_result"
    }
   ],
   "source": [
    "pillow_revenue"
   ]
  },
  {
   "cell_type": "markdown",
   "metadata": {},
   "source": [
    "# Introduction to Pandas\n",
    "Pandas is the <b>open-source project</b> that we use to replicate the functionality of Google Spreadsheets or Excel.\n",
    "\n",
    "Typically, you can only store numbers, text, True/False values in variables. However, Pandas add two more \"datatypes\".\n",
    "* A <b>DataFrame</b> is a table, similar to ones that you see in Excel. It has columns and rows.\n",
    "* A <b>Series</b> is either an entire row or an entire column of a DataFrame. In the photo below, we see that the DataFrame is made up of 3 different series. \n",
    "\n",
    "\n",
    "![title](img/seriesvsdataframe.png)\n",
    "\n",
    "First, lets read in a csv file. There is currently a csv file in the same folder in this notebook called <b>sales_2017-07-01_2017-07-07.csv</b> These are the item level sales from a random week in July 2017.\n",
    "\n",
    "We read in csv files by using <b>pd.read_csv('filename')</b>. Once we read it in, we have to store it in a variable."
   ]
  },
  {
   "cell_type": "code",
   "execution_count": 12,
   "metadata": {},
   "outputs": [],
   "source": [
    "# this allows us to use all the functionality of the pandas library\n",
    "import pandas as pd\n",
    "\n",
    "# this is where we read in the file\n",
    "sales = pd.read_csv('sales_2017-07-01_2017-07-07.csv')"
   ]
  },
  {
   "cell_type": "markdown",
   "metadata": {},
   "source": [
    "We can then display the DataFrame as we would any other variable."
   ]
  },
  {
   "cell_type": "code",
   "execution_count": 13,
   "metadata": {},
   "outputs": [
    {
     "data": {
      "text/html": [
       "<div>\n",
       "<style scoped>\n",
       "    .dataframe tbody tr th:only-of-type {\n",
       "        vertical-align: middle;\n",
       "    }\n",
       "\n",
       "    .dataframe tbody tr th {\n",
       "        vertical-align: top;\n",
       "    }\n",
       "\n",
       "    .dataframe thead th {\n",
       "        text-align: right;\n",
       "    }\n",
       "</style>\n",
       "<table border=\"1\" class=\"dataframe\">\n",
       "  <thead>\n",
       "    <tr style=\"text-align: right;\">\n",
       "      <th></th>\n",
       "      <th>day</th>\n",
       "      <th>order_name</th>\n",
       "      <th>customer_email</th>\n",
       "      <th>variant_sku</th>\n",
       "      <th>ordered_item_quantity</th>\n",
       "      <th>orders</th>\n",
       "      <th>gross_sales</th>\n",
       "      <th>discounts</th>\n",
       "      <th>returns</th>\n",
       "      <th>net_sales</th>\n",
       "      <th>shipping</th>\n",
       "      <th>taxes</th>\n",
       "      <th>total_sales</th>\n",
       "    </tr>\n",
       "  </thead>\n",
       "  <tbody>\n",
       "    <tr>\n",
       "      <td>0</td>\n",
       "      <td>7/1/17</td>\n",
       "      <td>6000117247</td>\n",
       "      <td>rsteiner@msn.com</td>\n",
       "      <td>NaN</td>\n",
       "      <td>0</td>\n",
       "      <td>0</td>\n",
       "      <td>0.0</td>\n",
       "      <td>0.0</td>\n",
       "      <td>0.0</td>\n",
       "      <td>0.0</td>\n",
       "      <td>0.00</td>\n",
       "      <td>0.00</td>\n",
       "      <td>0.00</td>\n",
       "    </tr>\n",
       "    <tr>\n",
       "      <td>1</td>\n",
       "      <td>7/1/17</td>\n",
       "      <td>6000117217</td>\n",
       "      <td>madanm@yahoo.ca</td>\n",
       "      <td>DFY7_DUV_MARB_PRP_TXL</td>\n",
       "      <td>1</td>\n",
       "      <td>1</td>\n",
       "      <td>99.0</td>\n",
       "      <td>-19.8</td>\n",
       "      <td>0.0</td>\n",
       "      <td>79.2</td>\n",
       "      <td>0.00</td>\n",
       "      <td>0.00</td>\n",
       "      <td>79.20</td>\n",
       "    </tr>\n",
       "    <tr>\n",
       "      <td>2</td>\n",
       "      <td>7/1/17</td>\n",
       "      <td>6000117247</td>\n",
       "      <td>rsteiner@msn.com</td>\n",
       "      <td>RAF_BANNER_NOBADDAYS</td>\n",
       "      <td>1</td>\n",
       "      <td>1</td>\n",
       "      <td>16.0</td>\n",
       "      <td>0.0</td>\n",
       "      <td>0.0</td>\n",
       "      <td>16.0</td>\n",
       "      <td>0.00</td>\n",
       "      <td>0.00</td>\n",
       "      <td>16.00</td>\n",
       "    </tr>\n",
       "    <tr>\n",
       "      <td>3</td>\n",
       "      <td>7/1/17</td>\n",
       "      <td>6000117129</td>\n",
       "      <td>esasaki@me.com</td>\n",
       "      <td>DFY7_SHEET_TDYE_GRY_QN</td>\n",
       "      <td>1</td>\n",
       "      <td>1</td>\n",
       "      <td>99.0</td>\n",
       "      <td>-19.8</td>\n",
       "      <td>0.0</td>\n",
       "      <td>79.2</td>\n",
       "      <td>0.00</td>\n",
       "      <td>0.00</td>\n",
       "      <td>79.20</td>\n",
       "    </tr>\n",
       "    <tr>\n",
       "      <td>4</td>\n",
       "      <td>7/1/17</td>\n",
       "      <td>6000117247</td>\n",
       "      <td>rsteiner@msn.com</td>\n",
       "      <td>KA_CLEARLONG_SET</td>\n",
       "      <td>1</td>\n",
       "      <td>1</td>\n",
       "      <td>14.0</td>\n",
       "      <td>0.0</td>\n",
       "      <td>0.0</td>\n",
       "      <td>14.0</td>\n",
       "      <td>0.00</td>\n",
       "      <td>0.00</td>\n",
       "      <td>14.00</td>\n",
       "    </tr>\n",
       "    <tr>\n",
       "      <td>...</td>\n",
       "      <td>...</td>\n",
       "      <td>...</td>\n",
       "      <td>...</td>\n",
       "      <td>...</td>\n",
       "      <td>...</td>\n",
       "      <td>...</td>\n",
       "      <td>...</td>\n",
       "      <td>...</td>\n",
       "      <td>...</td>\n",
       "      <td>...</td>\n",
       "      <td>...</td>\n",
       "      <td>...</td>\n",
       "      <td>...</td>\n",
       "    </tr>\n",
       "    <tr>\n",
       "      <td>6134</td>\n",
       "      <td>7/7/17</td>\n",
       "      <td>6000119591</td>\n",
       "      <td>cvrcek@icloud.com</td>\n",
       "      <td>RAF_PLW_UGH</td>\n",
       "      <td>1</td>\n",
       "      <td>1</td>\n",
       "      <td>36.0</td>\n",
       "      <td>-5.4</td>\n",
       "      <td>0.0</td>\n",
       "      <td>30.6</td>\n",
       "      <td>0.00</td>\n",
       "      <td>0.00</td>\n",
       "      <td>30.60</td>\n",
       "    </tr>\n",
       "    <tr>\n",
       "      <td>6135</td>\n",
       "      <td>7/7/17</td>\n",
       "      <td>6000119683</td>\n",
       "      <td>madler@me.com</td>\n",
       "      <td>UMBRA_ESTIQUE_MULTIORG</td>\n",
       "      <td>1</td>\n",
       "      <td>1</td>\n",
       "      <td>20.0</td>\n",
       "      <td>0.0</td>\n",
       "      <td>0.0</td>\n",
       "      <td>20.0</td>\n",
       "      <td>0.00</td>\n",
       "      <td>0.00</td>\n",
       "      <td>20.00</td>\n",
       "    </tr>\n",
       "    <tr>\n",
       "      <td>6136</td>\n",
       "      <td>7/7/17</td>\n",
       "      <td>6000119633</td>\n",
       "      <td>bahwi@me.com</td>\n",
       "      <td>NaN</td>\n",
       "      <td>0</td>\n",
       "      <td>0</td>\n",
       "      <td>0.0</td>\n",
       "      <td>0.0</td>\n",
       "      <td>0.0</td>\n",
       "      <td>0.0</td>\n",
       "      <td>7.95</td>\n",
       "      <td>0.00</td>\n",
       "      <td>7.95</td>\n",
       "    </tr>\n",
       "    <tr>\n",
       "      <td>6137</td>\n",
       "      <td>7/7/17</td>\n",
       "      <td>6000119579</td>\n",
       "      <td>eimear@verizon.net</td>\n",
       "      <td>HP_TRAVELPLW_GRY1</td>\n",
       "      <td>1</td>\n",
       "      <td>1</td>\n",
       "      <td>20.0</td>\n",
       "      <td>0.0</td>\n",
       "      <td>0.0</td>\n",
       "      <td>20.0</td>\n",
       "      <td>0.00</td>\n",
       "      <td>1.47</td>\n",
       "      <td>21.47</td>\n",
       "    </tr>\n",
       "    <tr>\n",
       "      <td>6138</td>\n",
       "      <td>7/7/17</td>\n",
       "      <td>6000119659</td>\n",
       "      <td>dburrows@live.com</td>\n",
       "      <td>THROP_THW_OMBRE_GRY</td>\n",
       "      <td>1</td>\n",
       "      <td>1</td>\n",
       "      <td>49.0</td>\n",
       "      <td>-9.8</td>\n",
       "      <td>0.0</td>\n",
       "      <td>39.2</td>\n",
       "      <td>0.00</td>\n",
       "      <td>0.00</td>\n",
       "      <td>39.20</td>\n",
       "    </tr>\n",
       "  </tbody>\n",
       "</table>\n",
       "<p>6139 rows × 13 columns</p>\n",
       "</div>"
      ],
      "text/plain": [
       "         day  order_name      customer_email             variant_sku  \\\n",
       "0     7/1/17  6000117247    rsteiner@msn.com                     NaN   \n",
       "1     7/1/17  6000117217     madanm@yahoo.ca   DFY7_DUV_MARB_PRP_TXL   \n",
       "2     7/1/17  6000117247    rsteiner@msn.com    RAF_BANNER_NOBADDAYS   \n",
       "3     7/1/17  6000117129      esasaki@me.com  DFY7_SHEET_TDYE_GRY_QN   \n",
       "4     7/1/17  6000117247    rsteiner@msn.com        KA_CLEARLONG_SET   \n",
       "...      ...         ...                 ...                     ...   \n",
       "6134  7/7/17  6000119591   cvrcek@icloud.com             RAF_PLW_UGH   \n",
       "6135  7/7/17  6000119683       madler@me.com  UMBRA_ESTIQUE_MULTIORG   \n",
       "6136  7/7/17  6000119633        bahwi@me.com                     NaN   \n",
       "6137  7/7/17  6000119579  eimear@verizon.net       HP_TRAVELPLW_GRY1   \n",
       "6138  7/7/17  6000119659   dburrows@live.com     THROP_THW_OMBRE_GRY   \n",
       "\n",
       "      ordered_item_quantity  orders  gross_sales  discounts  returns  \\\n",
       "0                         0       0          0.0        0.0      0.0   \n",
       "1                         1       1         99.0      -19.8      0.0   \n",
       "2                         1       1         16.0        0.0      0.0   \n",
       "3                         1       1         99.0      -19.8      0.0   \n",
       "4                         1       1         14.0        0.0      0.0   \n",
       "...                     ...     ...          ...        ...      ...   \n",
       "6134                      1       1         36.0       -5.4      0.0   \n",
       "6135                      1       1         20.0        0.0      0.0   \n",
       "6136                      0       0          0.0        0.0      0.0   \n",
       "6137                      1       1         20.0        0.0      0.0   \n",
       "6138                      1       1         49.0       -9.8      0.0   \n",
       "\n",
       "      net_sales  shipping  taxes  total_sales  \n",
       "0           0.0      0.00   0.00         0.00  \n",
       "1          79.2      0.00   0.00        79.20  \n",
       "2          16.0      0.00   0.00        16.00  \n",
       "3          79.2      0.00   0.00        79.20  \n",
       "4          14.0      0.00   0.00        14.00  \n",
       "...         ...       ...    ...          ...  \n",
       "6134       30.6      0.00   0.00        30.60  \n",
       "6135       20.0      0.00   0.00        20.00  \n",
       "6136        0.0      7.95   0.00         7.95  \n",
       "6137       20.0      0.00   1.47        21.47  \n",
       "6138       39.2      0.00   0.00        39.20  \n",
       "\n",
       "[6139 rows x 13 columns]"
      ]
     },
     "execution_count": 13,
     "metadata": {},
     "output_type": "execute_result"
    }
   ],
   "source": [
    "sales"
   ]
  },
  {
   "cell_type": "code",
   "execution_count": null,
   "metadata": {},
   "outputs": [],
   "source": []
  }
 ],
 "metadata": {
  "kernelspec": {
   "display_name": "dormify",
   "language": "python",
   "name": "dormify"
  },
  "language_info": {
   "codemirror_mode": {
    "name": "ipython",
    "version": 3
   },
   "file_extension": ".py",
   "mimetype": "text/x-python",
   "name": "python",
   "nbconvert_exporter": "python",
   "pygments_lexer": "ipython3",
   "version": "3.7.4"
  }
 },
 "nbformat": 4,
 "nbformat_minor": 4
}
