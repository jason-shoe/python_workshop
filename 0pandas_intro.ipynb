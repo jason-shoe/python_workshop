{
 "cells": [
  {
   "cell_type": "markdown",
   "metadata": {},
   "source": [
    "# Dormify Python Workshop\n",
    "### Introduction\n",
    "Python has been the fastest growing programming language over the past few years because of its wideranging functionality.  \n",
    "Use Cases:\n",
    "*   Building websites\n",
    "*   Creating simple games\n",
    "*   Collecting data\n",
    "*   Data Visualization\n",
    "*   Automation\n",
    "\n",
    "As a result of its popularity, many of its users have contributed to the language. What they create are <b>Open Source Projects</b>. Similar to how downloading applications to your computer is what makes it useful, open source projects are what make Python useful. They allow you to do things that would otherwise be impossible in regular python\n",
    "\n",
    "\n",
    "What Tony and I use basically everyday is an open source project called <b>Pandas</b>. I like to think of Pandas as \"fancy Excel\" since it can do everything that you can do in Excel, but much more. "
   ]
  },
  {
   "cell_type": "markdown",
   "metadata": {},
   "source": [
    "# How to Use Jupyter Notebook\n",
    "Just like how we use Microsoft Word to write text, we use Jupyter Notebook to write code. Of course, there are many other text editors that you can use, but Jupyter Notebook is our go-to since it is really helpful in visualizing tables and showing graphs.\n",
    "\n",
    "The main building block of code in Jupyter Notebook is a <b>cell</b>. Click on the cell below so that it is highlighted and click <b>Run</b> button at the top of the notebook. It looks like this\n",
    "![title](img/run.png)"
   ]
  },
  {
   "cell_type": "code",
   "execution_count": null,
   "metadata": {},
   "outputs": [],
   "source": [
    "print(\"Hello World!\")"
   ]
  },
  {
   "cell_type": "markdown",
   "metadata": {},
   "source": [
    "After we run a cell, we can also go back and change the code and run it again. For example, after running the above cell, we can change it to say \"Hello Dormify\" instead, and then run it again."
   ]
  },
  {
   "cell_type": "markdown",
   "metadata": {},
   "source": [
    "# Basic Python Concepts\n",
    "In Python, we work with thigs called <b>variables</b>. Variables can store information, can be changed, and can be used to perform additional calculations\n",
    "\n",
    "Variables can be thought of filenames on your computer. When you create a file and are about to save it, you need to create a name for that file so that you can find it later.\n",
    "\n",
    "In the example below, we have two different variables. They represent the price of the pillow and the number of pillows sold."
   ]
  },
  {
   "cell_type": "code",
   "execution_count": null,
   "metadata": {},
   "outputs": [],
   "source": [
    "pillow_price = 10.99\n",
    "pillows_sold = 100"
   ]
  },
  {
   "cell_type": "markdown",
   "metadata": {},
   "source": [
    "In order to calculate the revenue we get from the pillow, rather than multiplying $10.99 * 100$, we can instead multiply the two variables together."
   ]
  },
  {
   "cell_type": "code",
   "execution_count": null,
   "metadata": {},
   "outputs": [],
   "source": [
    "pillow_revenue = pillow_price * pillows_sold"
   ]
  },
  {
   "cell_type": "markdown",
   "metadata": {},
   "source": [
    "If we want to see what the current value being stored in a variable is, we can just write the name of the variable in its own cell. By running it, the value will show up right below it!"
   ]
  },
  {
   "cell_type": "code",
   "execution_count": null,
   "metadata": {},
   "outputs": [],
   "source": [
    "pillow_revenue"
   ]
  },
  {
   "cell_type": "markdown",
   "metadata": {},
   "source": [
    "Variables can change value if we want them to. For example, if we sell even more pillows, we can change the $\\verb#pillows_sold#$ variable, and then recalculate the revenue from the pillows accordingly."
   ]
  },
  {
   "cell_type": "code",
   "execution_count": null,
   "metadata": {},
   "outputs": [],
   "source": [
    "pillows_sold = 200\n",
    "pillow_revenue = pillow_price * pillows_sold"
   ]
  },
  {
   "cell_type": "code",
   "execution_count": null,
   "metadata": {},
   "outputs": [],
   "source": [
    "pillow_revenue"
   ]
  },
  {
   "cell_type": "markdown",
   "metadata": {},
   "source": [
    "# Introduction to Pandas\n",
    "Pandas is the <b>open-source project</b> that we use to replicate the functionality of Google Spreadsheets or Excel.\n",
    "\n",
    "Typically, you can only store numbers, text, True/False values in variables. However, Pandas add two more \"datatypes\".\n",
    "* A <b>DataFrame</b> is a table, similar to ones that you see in Excel. It has columns and rows.\n",
    "* A <b>Series</b> is either an entire row or an entire column of a DataFrame. In the photo below, we see that the DataFrame is made up of 3 different series. \n",
    "\n",
    "\n",
    "![title](img/seriesvsdataframe.png)\n",
    "\n",
    "First, lets read in a csv file. There is currently a csv file in the same folder in this notebook called <b>sales_2017-07-01_2017-07-07.csv</b> These are the item level sales from a random week in July 2017.\n",
    "\n",
    "We read in csv files by using <b>pd.read_csv('filename')</b>. Once we read it in, we have to store it in a variable."
   ]
  },
  {
   "cell_type": "code",
   "execution_count": null,
   "metadata": {},
   "outputs": [],
   "source": [
    "# this allows us to use all the functionality of the pandas library\n",
    "import pandas as pd\n",
    "\n",
    "# this is where we read in the file\n",
    "sales = pd.read_csv('sales_2017-07-01_2017-07-07.csv')"
   ]
  },
  {
   "cell_type": "markdown",
   "metadata": {},
   "source": [
    "We can then display the DataFrame as we would any other variable."
   ]
  },
  {
   "cell_type": "code",
   "execution_count": null,
   "metadata": {},
   "outputs": [],
   "source": [
    "sales"
   ]
  },
  {
   "cell_type": "markdown",
   "metadata": {},
   "source": [
    "If we want to get a specific column of the table, we can just specify the name of the column within square brackets.\n",
    "<center><code>sales[insert column name]</code></center>"
   ]
  },
  {
   "cell_type": "code",
   "execution_count": null,
   "metadata": {},
   "outputs": [],
   "source": [
    "sales['customer_email']"
   ]
  },
  {
   "cell_type": "markdown",
   "metadata": {},
   "source": [
    "# Basic Operations on DataFrame\n",
    "\n",
    "There three basic operations that we can perform on our DataFrame\n",
    " - Filter\n",
    " - Sort\n",
    " - Remove Duplicates\n",
    "\n",
    "## Filtering\n",
    "\n",
    "We can filter our dataframe based off of certain conditions. This process is very similar to filtering in Excel.\n",
    "<img src=\"img/filter.png\" alt=\"drawing\" width=\"700\"/>\n",
    "The condition in the cell above is that orders is equal to 1. We can put the condition in square brackets, just like column names.\n",
    "<center><code>sales[insert condition]</code></center>\n",
    "Here are different operations that we can use to make our conditions.\n",
    "<table>\n",
    "    <tr>\n",
    "        <th>Operation</th>\n",
    "        <th>Syntax</th>\n",
    "    </tr>\n",
    "    <tr>\n",
    "        <td>Equal</td>\n",
    "        <td><code>==</code></td>\n",
    "    </tr>\n",
    "    <tr>\n",
    "        <td>Greater Than</td>\n",
    "        <td><code>></code></td>\n",
    "    </tr>\n",
    "    <tr>\n",
    "        <td>Less Than</td>\n",
    "        <td><code>&lt;</code></td>\n",
    "    </tr>\n",
    "    <tr>\n",
    "        <td>Greater Than or Equal</td>\n",
    "        <td><code>>=</code></td>\n",
    "    </tr>\n",
    "    <tr>\n",
    "        <td>Less Than or Equal</td>\n",
    "        <td><code>&lt;=</code></td>\n",
    "    </tr>\n",
    "<table>"
   ]
  },
  {
   "cell_type": "code",
   "execution_count": null,
   "metadata": {},
   "outputs": [],
   "source": [
    "sales[sales['orders'] == 1]"
   ]
  },
  {
   "cell_type": "code",
   "execution_count": null,
   "metadata": {},
   "outputs": [],
   "source": [
    "sales[sales['total_sales'] > 100]"
   ]
  },
  {
   "cell_type": "markdown",
   "metadata": {},
   "source": [
    "However, the changes that these filters have are not saved. Similar to how when we filter an Excel table, the original data has not been changed. We can remove the filter and everything will still be there.  \n",
    "\n",
    "If we want to save it, we need to change our original variable. We do this by using the equals sign again."
   ]
  },
  {
   "cell_type": "code",
   "execution_count": null,
   "metadata": {},
   "outputs": [],
   "source": [
    "sales = sales[sales['orders'] == 1]"
   ]
  },
  {
   "cell_type": "markdown",
   "metadata": {},
   "source": [
    "## Sorting\n",
    "We can also sort our values based off a certain column using `sort_values`.\n",
    "<center><code>sales.sort_values(insert column name)</code></center>"
   ]
  },
  {
   "cell_type": "code",
   "execution_count": null,
   "metadata": {},
   "outputs": [],
   "source": [
    "sales.sort_values('total_sales')"
   ]
  },
  {
   "cell_type": "markdown",
   "metadata": {},
   "source": [
    "If we want it to be in ascending order, then we write: "
   ]
  },
  {
   "cell_type": "code",
   "execution_count": null,
   "metadata": {},
   "outputs": [],
   "source": [
    "sales.sort_values('total_sales', ascending=True)"
   ]
  },
  {
   "cell_type": "markdown",
   "metadata": {},
   "source": [
    "# Drop Duplicates\n",
    "For instance, if we only wanted to get rid of all the duplicates in `order_name` (there are multiple rows since each row represents an item in an order)"
   ]
  },
  {
   "cell_type": "code",
   "execution_count": null,
   "metadata": {},
   "outputs": [],
   "source": [
    "sales.drop_duplicates('order_name')"
   ]
  },
  {
   "cell_type": "markdown",
   "metadata": {},
   "source": [
    "# Pandas Exercises"
   ]
  },
  {
   "cell_type": "code",
   "execution_count": null,
   "metadata": {},
   "outputs": [],
   "source": [
    "sales_copy = pd.read_csv('sales_2017-07-01_2017-07-07.csv')"
   ]
  },
  {
   "cell_type": "markdown",
   "metadata": {},
   "source": [
    "## Exercise 1\n",
    "Filter the `sales_copy` DataFrame down to only those who have paid <b>more than 10 dollars</b> in taxes"
   ]
  },
  {
   "cell_type": "code",
   "execution_count": null,
   "metadata": {},
   "outputs": [],
   "source": []
  },
  {
   "cell_type": "markdown",
   "metadata": {},
   "source": [
    "## Exercise 2\n",
    "Filter the `sales_copy` DataFrame so that it only shows the orders from customer `hedwig@hotmail.com`"
   ]
  },
  {
   "cell_type": "code",
   "execution_count": null,
   "metadata": {},
   "outputs": [],
   "source": []
  },
  {
   "cell_type": "markdown",
   "metadata": {},
   "source": [
    "## Exercise 3\n",
    "Sort the `sales_copy` DataFrame by `ordered_item_quantity`"
   ]
  },
  {
   "cell_type": "code",
   "execution_count": null,
   "metadata": {},
   "outputs": [],
   "source": []
  },
  {
   "cell_type": "markdown",
   "metadata": {},
   "source": [
    "# Task 1:  Create a list of emails of all customers who bought any TXL product"
   ]
  },
  {
   "cell_type": "code",
   "execution_count": null,
   "metadata": {},
   "outputs": [],
   "source": [
    "sales = pd.read_csv('sales_2017-07-01_2017-07-07.csv')"
   ]
  },
  {
   "cell_type": "code",
   "execution_count": null,
   "metadata": {},
   "outputs": [],
   "source": [
    "sales"
   ]
  },
  {
   "cell_type": "markdown",
   "metadata": {},
   "source": [
    "We have to filter out all rows that have `orders == 0` since those represent shipping costs"
   ]
  },
  {
   "cell_type": "code",
   "execution_count": null,
   "metadata": {},
   "outputs": [],
   "source": [
    "sales = sales[sales['orders'] == 1]"
   ]
  },
  {
   "cell_type": "code",
   "execution_count": null,
   "metadata": {},
   "outputs": [],
   "source": [
    "sales"
   ]
  },
  {
   "cell_type": "markdown",
   "metadata": {},
   "source": [
    "We can then <b>filter</b> our DataFrame based off of whether or not the SKU indicates that it is a Twin-XL product.\n",
    "\n",
    "A Dormify SKU is a Twin XL product if it has \"TXL\", \"TWNXL\", or \"TWTXL\" in its SKU. In order to accomplish this task, we can write the following line of code.\n",
    "\n",
    "The filter within the square brackets is checking whether or not the `variant_sku` contains \"TXL\", \"TWNXL\", or \"TWTXL\"."
   ]
  },
  {
   "cell_type": "code",
   "execution_count": null,
   "metadata": {},
   "outputs": [],
   "source": [
    "sales = sales[sales['variant_sku'].str.contains('TXL|TWNXL|TWTXL')]"
   ]
  },
  {
   "cell_type": "code",
   "execution_count": null,
   "metadata": {},
   "outputs": [],
   "source": [
    "sales"
   ]
  },
  {
   "cell_type": "markdown",
   "metadata": {},
   "source": [
    "We don't want to have an email appear multiple times since they might get emailed twice. Because of this, we have to drop all the duplicate emails."
   ]
  },
  {
   "cell_type": "code",
   "execution_count": null,
   "metadata": {},
   "outputs": [],
   "source": [
    "sales = sales.drop_duplicates('customer_email')"
   ]
  },
  {
   "cell_type": "code",
   "execution_count": null,
   "metadata": {},
   "outputs": [],
   "source": [
    "sales"
   ]
  },
  {
   "cell_type": "markdown",
   "metadata": {},
   "source": [
    "# More Advanced Python \n"
   ]
  },
  {
   "cell_type": "markdown",
   "metadata": {},
   "source": [
    "## Getting the Order Value from an Item Level Spreadsheet"
   ]
  },
  {
   "cell_type": "code",
   "execution_count": 2,
   "metadata": {},
   "outputs": [
    {
     "data": {
      "text/html": [
       "<div>\n",
       "<style scoped>\n",
       "    .dataframe tbody tr th:only-of-type {\n",
       "        vertical-align: middle;\n",
       "    }\n",
       "\n",
       "    .dataframe tbody tr th {\n",
       "        vertical-align: top;\n",
       "    }\n",
       "\n",
       "    .dataframe thead th {\n",
       "        text-align: right;\n",
       "    }\n",
       "</style>\n",
       "<table border=\"1\" class=\"dataframe\">\n",
       "  <thead>\n",
       "    <tr style=\"text-align: right;\">\n",
       "      <th></th>\n",
       "      <th>ordered_item_quantity</th>\n",
       "      <th>orders</th>\n",
       "      <th>gross_sales</th>\n",
       "      <th>discounts</th>\n",
       "      <th>returns</th>\n",
       "      <th>net_sales</th>\n",
       "      <th>shipping</th>\n",
       "      <th>taxes</th>\n",
       "      <th>total_sales</th>\n",
       "    </tr>\n",
       "    <tr>\n",
       "      <th>order_name</th>\n",
       "      <th></th>\n",
       "      <th></th>\n",
       "      <th></th>\n",
       "      <th></th>\n",
       "      <th></th>\n",
       "      <th></th>\n",
       "      <th></th>\n",
       "      <th></th>\n",
       "      <th></th>\n",
       "    </tr>\n",
       "  </thead>\n",
       "  <tbody>\n",
       "    <tr>\n",
       "      <td>6000119071</td>\n",
       "      <td>27</td>\n",
       "      <td>21</td>\n",
       "      <td>1265.00</td>\n",
       "      <td>0.0</td>\n",
       "      <td>0.00</td>\n",
       "      <td>1265.00</td>\n",
       "      <td>0.0</td>\n",
       "      <td>0.00</td>\n",
       "      <td>1265.00</td>\n",
       "    </tr>\n",
       "    <tr>\n",
       "      <td>6000118561</td>\n",
       "      <td>41</td>\n",
       "      <td>17</td>\n",
       "      <td>1807.00</td>\n",
       "      <td>-722.8</td>\n",
       "      <td>0.00</td>\n",
       "      <td>1084.20</td>\n",
       "      <td>0.0</td>\n",
       "      <td>0.00</td>\n",
       "      <td>1084.20</td>\n",
       "    </tr>\n",
       "    <tr>\n",
       "      <td>6000117573</td>\n",
       "      <td>24</td>\n",
       "      <td>23</td>\n",
       "      <td>1205.00</td>\n",
       "      <td>-209.0</td>\n",
       "      <td>0.00</td>\n",
       "      <td>996.00</td>\n",
       "      <td>0.0</td>\n",
       "      <td>85.91</td>\n",
       "      <td>1081.91</td>\n",
       "    </tr>\n",
       "    <tr>\n",
       "      <td>6000117053</td>\n",
       "      <td>20</td>\n",
       "      <td>18</td>\n",
       "      <td>1296.00</td>\n",
       "      <td>-227.2</td>\n",
       "      <td>0.00</td>\n",
       "      <td>1068.80</td>\n",
       "      <td>0.0</td>\n",
       "      <td>0.00</td>\n",
       "      <td>1068.80</td>\n",
       "    </tr>\n",
       "    <tr>\n",
       "      <td>6000119815</td>\n",
       "      <td>24</td>\n",
       "      <td>20</td>\n",
       "      <td>862.99</td>\n",
       "      <td>0.0</td>\n",
       "      <td>0.00</td>\n",
       "      <td>862.99</td>\n",
       "      <td>0.0</td>\n",
       "      <td>74.43</td>\n",
       "      <td>937.42</td>\n",
       "    </tr>\n",
       "    <tr>\n",
       "      <td>...</td>\n",
       "      <td>...</td>\n",
       "      <td>...</td>\n",
       "      <td>...</td>\n",
       "      <td>...</td>\n",
       "      <td>...</td>\n",
       "      <td>...</td>\n",
       "      <td>...</td>\n",
       "      <td>...</td>\n",
       "      <td>...</td>\n",
       "    </tr>\n",
       "    <tr>\n",
       "      <td>6000111435</td>\n",
       "      <td>0</td>\n",
       "      <td>0</td>\n",
       "      <td>0.00</td>\n",
       "      <td>0.0</td>\n",
       "      <td>-247.50</td>\n",
       "      <td>-247.50</td>\n",
       "      <td>0.0</td>\n",
       "      <td>-23.24</td>\n",
       "      <td>-270.74</td>\n",
       "    </tr>\n",
       "    <tr>\n",
       "      <td>6000112061</td>\n",
       "      <td>0</td>\n",
       "      <td>0</td>\n",
       "      <td>0.00</td>\n",
       "      <td>0.0</td>\n",
       "      <td>-257.00</td>\n",
       "      <td>-257.00</td>\n",
       "      <td>0.0</td>\n",
       "      <td>-22.16</td>\n",
       "      <td>-279.16</td>\n",
       "    </tr>\n",
       "    <tr>\n",
       "      <td>6000111437</td>\n",
       "      <td>0</td>\n",
       "      <td>0</td>\n",
       "      <td>0.00</td>\n",
       "      <td>0.0</td>\n",
       "      <td>-286.95</td>\n",
       "      <td>-286.95</td>\n",
       "      <td>0.0</td>\n",
       "      <td>-27.39</td>\n",
       "      <td>-314.34</td>\n",
       "    </tr>\n",
       "    <tr>\n",
       "      <td>6000114595</td>\n",
       "      <td>0</td>\n",
       "      <td>0</td>\n",
       "      <td>0.00</td>\n",
       "      <td>0.0</td>\n",
       "      <td>-297.00</td>\n",
       "      <td>-297.00</td>\n",
       "      <td>0.0</td>\n",
       "      <td>-22.26</td>\n",
       "      <td>-319.26</td>\n",
       "    </tr>\n",
       "    <tr>\n",
       "      <td>6000107179</td>\n",
       "      <td>0</td>\n",
       "      <td>0</td>\n",
       "      <td>0.00</td>\n",
       "      <td>0.0</td>\n",
       "      <td>-387.80</td>\n",
       "      <td>-387.80</td>\n",
       "      <td>0.0</td>\n",
       "      <td>0.00</td>\n",
       "      <td>-387.80</td>\n",
       "    </tr>\n",
       "  </tbody>\n",
       "</table>\n",
       "<p>1511 rows × 9 columns</p>\n",
       "</div>"
      ],
      "text/plain": [
       "            ordered_item_quantity  orders  gross_sales  discounts  returns  \\\n",
       "order_name                                                                   \n",
       "6000119071                     27      21      1265.00        0.0     0.00   \n",
       "6000118561                     41      17      1807.00     -722.8     0.00   \n",
       "6000117573                     24      23      1205.00     -209.0     0.00   \n",
       "6000117053                     20      18      1296.00     -227.2     0.00   \n",
       "6000119815                     24      20       862.99        0.0     0.00   \n",
       "...                           ...     ...          ...        ...      ...   \n",
       "6000111435                      0       0         0.00        0.0  -247.50   \n",
       "6000112061                      0       0         0.00        0.0  -257.00   \n",
       "6000111437                      0       0         0.00        0.0  -286.95   \n",
       "6000114595                      0       0         0.00        0.0  -297.00   \n",
       "6000107179                      0       0         0.00        0.0  -387.80   \n",
       "\n",
       "            net_sales  shipping  taxes  total_sales  \n",
       "order_name                                           \n",
       "6000119071    1265.00       0.0   0.00      1265.00  \n",
       "6000118561    1084.20       0.0   0.00      1084.20  \n",
       "6000117573     996.00       0.0  85.91      1081.91  \n",
       "6000117053    1068.80       0.0   0.00      1068.80  \n",
       "6000119815     862.99       0.0  74.43       937.42  \n",
       "...               ...       ...    ...          ...  \n",
       "6000111435    -247.50       0.0 -23.24      -270.74  \n",
       "6000112061    -257.00       0.0 -22.16      -279.16  \n",
       "6000111437    -286.95       0.0 -27.39      -314.34  \n",
       "6000114595    -297.00       0.0 -22.26      -319.26  \n",
       "6000107179    -387.80       0.0   0.00      -387.80  \n",
       "\n",
       "[1511 rows x 9 columns]"
      ]
     },
     "execution_count": 2,
     "metadata": {},
     "output_type": "execute_result"
    }
   ],
   "source": [
    "# reset the DataFrame with the original data\n",
    "sales = pd.read_csv('sales_2017-07-01_2017-07-07.csv')\n",
    "sales.groupby('order_name').sum().sort_values('total_sales', ascending=False)"
   ]
  },
  {
   "cell_type": "code",
   "execution_count": 3,
   "metadata": {},
   "outputs": [
    {
     "data": {
      "text/plain": [
       "<matplotlib.axes._subplots.AxesSubplot at 0x10f43c790>"
      ]
     },
     "execution_count": 3,
     "metadata": {},
     "output_type": "execute_result"
    },
    {
     "data": {
      "image/png": "[encoded data removed]",
      "text/plain": [
       "<Figure size 432x288 with 1 Axes>"
      ]
     },
     "metadata": {
      "needs_background": "light"
     },
     "output_type": "display_data"
    }
   ],
   "source": [
    "sales.groupby('order_name').sum()['total_sales'].hist(bins = 50)"
   ]
  },
  {
   "cell_type": "markdown",
   "metadata": {},
   "source": [
    "## Visualizing Topselling SKUs"
   ]
  },
  {
   "cell_type": "code",
   "execution_count": 4,
   "metadata": {},
   "outputs": [
    {
     "data": {
      "text/plain": [
       "<matplotlib.axes._subplots.AxesSubplot at 0x10f9119d0>"
      ]
     },
     "execution_count": 4,
     "metadata": {},
     "output_type": "execute_result"
    },
    {
     "data": {
      "image/png": "[encoded data removed]",
      "text/plain": [
       "<Figure size 432x288 with 1 Axes>"
      ]
     },
     "metadata": {
      "needs_background": "light"
     },
     "output_type": "display_data"
    }
   ],
   "source": [
    "top_skus = sales.groupby('variant_sku').sum().reset_index()\n",
    "top_skus = top_skus.sort_values('total_sales', ascending = False).head(20)\n",
    "top_skus.plot.bar(x='variant_sku', y='total_sales', rot=90)"
   ]
  },
  {
   "cell_type": "code",
   "execution_count": null,
   "metadata": {},
   "outputs": [],
   "source": []
  }
 ],
 "metadata": {
  "kernelspec": {
   "display_name": "dormify",
   "language": "python",
   "name": "dormify"
  },
  "language_info": {
   "codemirror_mode": {
    "name": "ipython",
    "version": 3
   },
   "file_extension": ".py",
   "mimetype": "text/x-python",
   "name": "python",
   "nbconvert_exporter": "python",
   "pygments_lexer": "ipython3",
   "version": "3.7.4"
  }
 },
 "nbformat": 4,
 "nbformat_minor": 4
}
